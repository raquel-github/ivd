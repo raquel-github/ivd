{
 "cells": [
  {
   "cell_type": "markdown",
   "metadata": {},
   "source": [
    "# Question Generator"
   ]
  },
  {
   "cell_type": "markdown",
   "metadata": {},
   "source": [
    "<img src=\"img/QGenModel.png\">"
   ]
  },
  {
   "cell_type": "code",
   "execution_count": 1,
   "metadata": {
    "collapsed": true
   },
   "outputs": [],
   "source": [
    "import torch\n",
    "import torch.autograd as autograd\n",
    "import torch.nn as nn\n",
    "import torch.nn.functional as F\n",
    "import torch.optim as optim\n",
    "import numpy"
   ]
  },
  {
   "cell_type": "markdown",
   "metadata": {},
   "source": [
    "## Load Word Embeddings"
   ]
  },
  {
   "cell_type": "code",
   "execution_count": 8,
   "metadata": {
    "collapsed": false
   },
   "outputs": [
    {
     "name": "stdout",
     "output_type": "stream",
     "text": [
      "loading word vectors from ./glove.6B.100d.pt\n",
      "Loaded 400000 words\n"
     ]
    }
   ],
   "source": [
    "from torchtext.vocab import load_word_vectors\n",
    "\n",
    "wv_dict, wv_arr, wv_size = load_word_vectors('.', 'glove.6B', 100)\n",
    "\n",
    "print('Loaded', len(wv_arr), 'words')"
   ]
  },
  {
   "cell_type": "code",
   "execution_count": 9,
   "metadata": {
    "collapsed": false
   },
   "outputs": [],
   "source": [
    "wv_dict['-SOS-'] = len(wv_dict)\n",
    "temp = torch.cat([wv_arr, torch.randn((1,100))])\n",
    "wv_arr = temp\n",
    "wv_dict['-EOS-'] = len(wv_dict)\n",
    "temp = torch.cat([wv_arr, torch.randn((1,100))])\n",
    "wv_arr = temp"
   ]
  },
  {
   "cell_type": "code",
   "execution_count": 10,
   "metadata": {
    "collapsed": true
   },
   "outputs": [],
   "source": [
    "def get_wv(w):\n",
    "    \"\"\" returning the word embedding \"\"\"\n",
    "    assert type(w) == str, \"Not given a string.\"\n",
    "    \n",
    "    if w in wv_dict:\n",
    "        vw = wv_arr[wv_dict[w]]\n",
    "        return vw.view(1, 100)\n",
    "    else:\n",
    "        print('Word not in Vocab: %s' %(w))    "
   ]
  },
  {
   "cell_type": "markdown",
   "metadata": {},
   "source": [
    "## Create Dummy Data"
   ]
  },
  {
   "cell_type": "code",
   "execution_count": 11,
   "metadata": {
    "collapsed": false
   },
   "outputs": [
    {
     "name": "stdout",
     "output_type": "stream",
     "text": [
      "20\n"
     ]
    }
   ],
   "source": [
    "data = list()\n",
    "data.append('-SOS- is it a person ? -EOS-')\n",
    "data.append('-SOS- is it a dog ? -EOS-')\n",
    "data.append('-SOS- is it on the left side ? -EOS-')\n",
    "data.append('-SOS- is it on the ground ? -EOS-')\n",
    "data.append('-SOS- is it in the sky ? -EOS-')\n",
    "data.append('-SOS- is it an animal ? -EOS-')\n",
    "data.append('-SOS- is it an apple ? -EOS-')\n",
    "data.append('-SOS- is it red ? -EOS-')\n",
    "data.append('-SOS- is it a cat ? -EOS-')\n",
    "data.append('-SOS- is it on the right side ? -EOS-')\n",
    "data.append('-SOS- is it at the top ? -EOS-')\n",
    "data.append('-SOS- is it at the bottom ? -EOS-')\n",
    "data.append('-SOS- is it blue ? -EOS-')\n",
    "data.append('-SOS- are they in the foreground ? -EOS-')\n",
    "data.append('-SOS- are they in the background ? -EOS-')\n",
    "data.append('-SOS- are they wearing white ? -EOS-')\n",
    "data.append('-SOS- are they wearing pants ? -EOS-')\n",
    "data.append('-SOS- are they eating pizza ? -EOS-')\n",
    "data.append('-SOS- are they eating a sandwich ? -EOS-')\n",
    "data.append('-SOS- are they playing guitar ? -EOS-')\n",
    "\n",
    "print(len(data))"
   ]
  },
  {
   "cell_type": "markdown",
   "metadata": {},
   "source": [
    "## Prepare Data"
   ]
  },
  {
   "cell_type": "code",
   "execution_count": 12,
   "metadata": {
    "collapsed": false
   },
   "outputs": [
    {
     "name": "stdout",
     "output_type": "stream",
     "text": [
      "{'top': 0, 'dog': 1, 'eating': 2, 'blue': 3, 'white': 4, 'person': 5, 'left': 6, 'the': 7, 'a': 8, '?': 9, 'in': 10, 'at': 11, 'right': 12, 'ground': 13, 'are': 14, 'sandwich': 15, 'it': 16, '-SOS-': 17, 'animal': 18, 'background': 19, 'side': 20, 'on': 21, 'sky': 22, 'cat': 23, '-EOS-': 24, 'foreground': 25, 'they': 26, 'red': 27, 'apple': 28, 'bottom': 29, 'pizza': 30, 'wearing': 31, 'is': 32, 'guitar': 33, 'pants': 34, 'playing': 35, 'an': 36}\n"
     ]
    }
   ],
   "source": [
    "vocab = set(' '.join(data).split())\n",
    "word2index = dict()\n",
    "index2word = dict()\n",
    "for i, w in enumerate(vocab):\n",
    "    word2index[w] = i\n",
    "    index2word[i] = w\n",
    "print(word2index)"
   ]
  },
  {
   "cell_type": "markdown",
   "metadata": {},
   "source": [
    "## Model"
   ]
  },
  {
   "cell_type": "markdown",
   "metadata": {},
   "source": [
    "### Hyperparameters"
   ]
  },
  {
   "cell_type": "code",
   "execution_count": 13,
   "metadata": {
    "collapsed": true
   },
   "outputs": [],
   "source": [
    "embedding_dim = 100\n",
    "hidden_dim = 100\n",
    "vocab_size = len(vocab)\n",
    "target_size = len(vocab)\n",
    "iterations = 10"
   ]
  },
  {
   "cell_type": "code",
   "execution_count": 14,
   "metadata": {
    "collapsed": false
   },
   "outputs": [],
   "source": [
    "class QGen(nn.Module):\n",
    "    \n",
    "    def __init__(self, embedding_dim, hidden_dim, vocab_size, target_size):\n",
    "        super(QGen, self).__init__()\n",
    "        self.hidden_dim = hidden_dim\n",
    "\n",
    "        # The LSTM takes word embeddings as inputs, and outputs hidden states\n",
    "        # with dimensionality hidden_dim.\n",
    "        self.lstm = nn.LSTM(embedding_dim, hidden_dim)\n",
    "\n",
    "        # The linear layer that maps from hidden state space to word space\n",
    "        self.hidden2word = nn.Linear(hidden_dim, target_size)\n",
    "        self.hidden = self.init_hidden()\n",
    "\n",
    "    def init_hidden(self):\n",
    "        return (autograd.Variable(torch.zeros(1, 1, self.hidden_dim)),\n",
    "                autograd.Variable(torch.zeros(1, 1, self.hidden_dim)))\n",
    "\n",
    "    def forward(self, sentence, hidden=None):\n",
    "        \n",
    "        if hidden == None:\n",
    "            hidden = self.hidden\n",
    "            \n",
    "        # Word embedding of sentence\n",
    "        embeds = autograd.Variable(torch.FloatTensor(len(sentence.split()), embedding_dim))\n",
    "\n",
    "        for i, w in enumerate(sentence.split()):\n",
    "            embeds[i] = get_wv(w)\n",
    "\n",
    "        # lstm\n",
    "        lstm_out, self.hidden = self.lstm(\n",
    "            embeds.view(len(sentence.split()), 1, -1), hidden)\n",
    "        \n",
    "        \n",
    "        # mapping hidden state to word output\n",
    "        word_space = self.hidden2word(lstm_out.view(len(sentence.split()), -1))\n",
    "\n",
    "        \n",
    "        # p(w)\n",
    "        word_scores = F.log_softmax(word_space)\n",
    "        \n",
    "        return word_scores, self.hidden"
   ]
  },
  {
   "cell_type": "code",
   "execution_count": 15,
   "metadata": {
    "collapsed": false,
    "scrolled": false
   },
   "outputs": [
    {
     "name": "stdout",
     "output_type": "stream",
     "text": [
      "Epoch 0 Loss 3.199958\n",
      "Epoch 1 Loss 4.524344\n",
      "Epoch 2 Loss 2.452382\n",
      "Epoch 3 Loss 2.714814\n",
      "Epoch 4 Loss 2.579645\n",
      "Epoch 5 Loss 2.398459\n",
      "Epoch 6 Loss 2.529383\n",
      "Epoch 7 Loss 1.862185\n",
      "Epoch 8 Loss 2.207916\n",
      "Epoch 9 Loss 2.097496\n",
      "Training completed.\n"
     ]
    }
   ],
   "source": [
    "# Init Model, loss function and optimizer\n",
    "model = QGen(embedding_dim=embedding_dim, hidden_dim=hidden_dim, vocab_size=vocab_size, target_size=target_size)\n",
    "loss_function = nn.NLLLoss()\n",
    "optimizer = optim.Adam(model.parameters(), lr=0.1)\n",
    "\n",
    "# See what the scores are before training\n",
    "inputs = ' '.join(data[0].split()[:-1])\n",
    "word_scores, _ = model(inputs)\n",
    "\n",
    "avg_loss = []\n",
    "\n",
    "for epoch in range(iterations):\n",
    "    _loss = []\n",
    "    \n",
    "    for sentence in data:\n",
    "        \n",
    "        # clear gradients\n",
    "        model.zero_grad()\n",
    "\n",
    "        # clear hidden state for new datapoint\n",
    "        model.hidden = model.init_hidden()\n",
    "\n",
    "        # get the input to the LSTM\n",
    "        sentence_in = ' '.join(sentence.split()[:-1])\n",
    "\n",
    "        # get the desired output\n",
    "        targets = autograd.Variable(torch.LongTensor(len(sentence.split())-1))\n",
    "        for i, w in enumerate(sentence.split()[1:]):\n",
    "            targets[i] = word2index[w]\n",
    "            \n",
    "            \n",
    "        # run our forward pass.\n",
    "        word_scores, _ = model(sentence_in)\n",
    "\n",
    "        # compute loss and do SGD\n",
    "        loss = loss_function(word_scores, targets)\n",
    "        _loss.append(loss.data.numpy())\n",
    "        loss.backward()\n",
    "        optimizer.step()\n",
    "        \n",
    "    avg_loss.append(numpy.mean(_loss))\n",
    "    \n",
    "    \n",
    "    print('Epoch %i Loss %f' %(epoch, avg_loss[-1]))\n",
    "    \n",
    "print('Training completed.')\n"
   ]
  },
  {
   "cell_type": "code",
   "execution_count": 16,
   "metadata": {
    "collapsed": false
   },
   "outputs": [
    {
     "data": {
      "image/png": "[encoded data removed]",
      "text/plain": [
       "<matplotlib.figure.Figure at 0x10f7ad5f8>"
      ]
     },
     "metadata": {},
     "output_type": "display_data"
    }
   ],
   "source": [
    "import matplotlib.pyplot as plt\n",
    "%matplotlib inline\n",
    "plt.plot(avg_loss)\n",
    "plt.show()"
   ]
  },
  {
   "cell_type": "markdown",
   "metadata": {},
   "source": [
    "## Testing\n",
    "Beam Search"
   ]
  },
  {
   "cell_type": "code",
   "execution_count": 17,
   "metadata": {
    "collapsed": false
   },
   "outputs": [
    {
     "name": "stdout",
     "output_type": "stream",
     "text": [
      "[-2.07159686 -3.19004941 -9.78621769]\n",
      "['-SOS- is they wearing pants ? -EOS-', '-SOS- are they wearing pants ? -EOS-', '-SOS- -EOS- it blue ? -EOS-']\n"
     ]
    }
   ],
   "source": [
    "# given the start of sentence token\n",
    "# we use beam search to approximate the most likely question\n",
    "\n",
    "inputs = '-SOS-'\n",
    "h_init = model.init_hidden() # clear the first hidden state\n",
    "max_lenght = 10 # max. question length\n",
    "top_k = 3 # take the top k succesor word of the SOS token\n",
    "p = [0]*3 # probability to track the sequence probability\n",
    "seq = [inputs, inputs, inputs]\n",
    "\n",
    "\n",
    "# get the first p(w) distribution\n",
    "# do first forward pass \n",
    "input_wv = autograd.Variable(get_wv(inputs))\n",
    "out, h_first = model.lstm(input_wv.view(1,1,-1), h_init)\n",
    "word_space = model.hidden2word(out.view(1, -1))\n",
    "word_score = F.log_softmax(word_space)\n",
    "idxs = word_score.data.numpy().ravel().argsort()[-top_k:][::-1]\n",
    "\n",
    "# get the top_k words and add them to the sequence\n",
    "p = word_score.data.numpy().ravel()[idxs]\n",
    "for i, idx in enumerate(idxs):\n",
    "    seq[i]+= ' ' + index2word[idx]\n",
    "\n",
    "\n",
    "for i, idx in enumerate(idxs):\n",
    "    # get the first word and its embedding, set the hidden state\n",
    "    inputs = index2word[idx]\n",
    "    input_wv = autograd.Variable(get_wv(inputs))\n",
    "    h = h_first\n",
    "    \n",
    "    # keep forward passing and keep track of sequence and respective probability\n",
    "    for _ in range(1, max_lenght):\n",
    "        out, h = model.lstm(input_wv.view(1,1,-1), h)\n",
    "        word_space = model.hidden2word(out.view(1, -1))\n",
    "        word_score = F.log_softmax(word_space)\n",
    "        p[i] += numpy.max(word_score.data.numpy().ravel())\n",
    "        inputs = index2word[numpy.argmax(word_score.data.numpy().ravel())]\n",
    "        seq[i] += ' ' + inputs\n",
    "        input_wv = autograd.Variable(get_wv(inputs))\n",
    "        \n",
    "        # if -EOS- was emitted, stop\n",
    "        if inputs == '-EOS-':\n",
    "            break\n",
    "        \n",
    "print(p)\n",
    "print(seq)"
   ]
  }
 ],
 "metadata": {
  "kernelspec": {
   "display_name": "Python 3",
   "language": "python",
   "name": "python3"
  },
  "language_info": {
   "codemirror_mode": {
    "name": "ipython",
    "version": 3
   },
   "file_extension": ".py",
   "mimetype": "text/x-python",
   "name": "python",
   "nbconvert_exporter": "python",
   "pygments_lexer": "ipython3",
   "version": "3.6.1"
  }
 },
 "nbformat": 4,
 "nbformat_minor": 2
}
