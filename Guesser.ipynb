{
 "cells": [
  {
   "cell_type": "markdown",
   "metadata": {},
   "source": [
    "# Guesser"
   ]
  },
  {
   "cell_type": "markdown",
   "metadata": {},
   "source": [
    "<img src=\"img/GuesserModel.png\">"
   ]
  },
  {
   "cell_type": "code",
   "execution_count": 47,
   "metadata": {
    "collapsed": true
   },
   "outputs": [],
   "source": [
    "import torch\n",
    "import torch.autograd as autograd\n",
    "import torch.nn as nn\n",
    "import torch.nn.functional as F\n",
    "import torch.optim as optim\n",
    "import numpy\n",
    "import json\n",
    "import matplotlib.pyplot as plt\n",
    "from time import time"
   ]
  },
  {
   "cell_type": "markdown",
   "metadata": {},
   "source": [
    "## Load Test Data"
   ]
  },
  {
   "cell_type": "code",
   "execution_count": 25,
   "metadata": {
    "collapsed": false
   },
   "outputs": [],
   "source": [
    "data = list()\n",
    "with open('../data/guesswhat.valid.new.jsonl') as f:\n",
    "    content = f.readlines()\n",
    "    data = [json.loads(x.strip()) for x in content]"
   ]
  },
  {
   "cell_type": "code",
   "execution_count": 26,
   "metadata": {
    "collapsed": true
   },
   "outputs": [],
   "source": [
    "data, test = data[:1500], data[1500:1510]"
   ]
  },
  {
   "cell_type": "markdown",
   "metadata": {},
   "source": [
    "## Preprocess data"
   ]
  },
  {
   "cell_type": "markdown",
   "metadata": {},
   "source": [
    "### Object Embeddings"
   ]
  },
  {
   "cell_type": "code",
   "execution_count": 27,
   "metadata": {
    "collapsed": false
   },
   "outputs": [],
   "source": [
    "# get all object categories\n",
    "obj_cat = set()\n",
    "for d in data:\n",
    "    for obj in d['objects']:\n",
    "        obj_cat.add(obj['category_id'])\n",
    "\n",
    "# create embedding for each category\n",
    "obj_embed_dim = 100\n",
    "obj_embends = nn.Embedding(len(obj_cat), obj_embed_dim)\n",
    "\n",
    "catid2embedid = dict()\n",
    "for i, cat in enumerate(obj_cat):\n",
    "    catid2embedid[cat] = i"
   ]
  },
  {
   "cell_type": "code",
   "execution_count": 28,
   "metadata": {
    "collapsed": true
   },
   "outputs": [],
   "source": [
    "def get_obj_embeds(catid):\n",
    "    \"\"\" Returns the object embedding for a category \"\"\"\n",
    "    return obj_embends(autograd.Variable(torch.LongTensor([catid2embedid[catid]]))).view(1,-1)"
   ]
  },
  {
   "cell_type": "markdown",
   "metadata": {},
   "source": [
    "### Spatial Information"
   ]
  },
  {
   "cell_type": "code",
   "execution_count": 29,
   "metadata": {
    "collapsed": true
   },
   "outputs": [],
   "source": [
    "def get_spatial(bbox, image):\n",
    "    \n",
    "    # get image coordinates\n",
    "    width = image['width']\n",
    "    height = image['height']\n",
    "    image_center_x = width / 2\n",
    "    image_center_y = height / 2\n",
    "\n",
    "    # clalc. norm. coords (between -1 and 1)\n",
    "    x_min = (min(bbox[0], bbox[2]) - image_center_x) / image_center_x\n",
    "    y_min = (min(bbox[1], bbox[3]) - image_center_y) / image_center_y\n",
    "    x_max = (max(bbox[0], bbox[2]) - image_center_x) / image_center_x\n",
    "    y_max = (max(bbox[1], bbox[3]) - image_center_y) / image_center_y\n",
    "    x_center = (x_min + x_max) / 2\n",
    "    y_center = (y_min + y_max) / 2\n",
    "    \n",
    "    w_box = x_max - x_min\n",
    "    h_box = y_max - y_min       \n",
    "    \n",
    "    return autograd.Variable(torch.FloatTensor([x_min, y_min, x_max, y_max, x_center, y_center, w_box, h_box]))"
   ]
  },
  {
   "cell_type": "markdown",
   "metadata": {},
   "source": [
    "### Get Vocablurary"
   ]
  },
  {
   "cell_type": "code",
   "execution_count": 30,
   "metadata": {
    "collapsed": true
   },
   "outputs": [],
   "source": [
    "def preproc_question(q):\n",
    "    q = q.lower()\n",
    "    q = '-SOS- ' + q[:q.index('?')] + str(' ? -EOS-')\n",
    "    return q\n",
    "\n",
    "def preproc_answer(a):\n",
    "    a = a.lower()\n",
    "    return a"
   ]
  },
  {
   "cell_type": "code",
   "execution_count": 31,
   "metadata": {
    "collapsed": false
   },
   "outputs": [
    {
     "name": "stdout",
     "output_type": "stream",
     "text": [
      "Vocablurary created containing 1665 tokens.\n"
     ]
    }
   ],
   "source": [
    "vocab = set()\n",
    "\n",
    "for d in data:\n",
    "    qas = d['qas']\n",
    "    for qna in qas:\n",
    "        question = preproc_question(qna['question'])\n",
    "        vocab.update(question.split())\n",
    "    \n",
    "        answer = preproc_answer(qna['answer'])\n",
    "        vocab.add(answer)\n",
    "    \n",
    "\n",
    "word2index = dict()\n",
    "index2word = dict()\n",
    "for i, w in enumerate(vocab):\n",
    "    word2index[w] = i\n",
    "    index2word[i] = w\n",
    "\n",
    "print(\"Vocablurary created containing %i tokens.\" %(len(vocab)))"
   ]
  },
  {
   "cell_type": "markdown",
   "metadata": {},
   "source": [
    "## Model"
   ]
  },
  {
   "cell_type": "markdown",
   "metadata": {},
   "source": [
    "### LSTM for Question History\n",
    "Takes all questions and answers as input.\n",
    "Last hidden state will be used for object guessing."
   ]
  },
  {
   "cell_type": "markdown",
   "metadata": {},
   "source": [
    "#### Get Word Emebeddings"
   ]
  },
  {
   "cell_type": "code",
   "execution_count": 32,
   "metadata": {
    "collapsed": true
   },
   "outputs": [],
   "source": [
    "glove_word_embedding_size = 100"
   ]
  },
  {
   "cell_type": "code",
   "execution_count": 34,
   "metadata": {
    "collapsed": false
   },
   "outputs": [
    {
     "name": "stdout",
     "output_type": "stream",
     "text": [
      "loading word vectors from ./glove.6B.100d.pt\n",
      "Loaded 400000 words\n"
     ]
    }
   ],
   "source": [
    "from torchtext.vocab import load_word_vectors\n",
    "\n",
    "wv_dict, wv_arr, wv_size = load_word_vectors('.', 'glove.6B', glove_word_embedding_size)\n",
    "\n",
    "print('Loaded', len(wv_arr), 'words')"
   ]
  },
  {
   "cell_type": "code",
   "execution_count": 35,
   "metadata": {
    "collapsed": true
   },
   "outputs": [],
   "source": [
    "# add SOS and EOS tokens to dict\n",
    "if '-SOS-' not in wv_dict:\n",
    "    wv_dict['-SOS-'] = len(wv_dict)\n",
    "    temp = torch.cat([wv_arr, torch.randn((1,glove_word_embedding_size))])\n",
    "    wv_arr = temp\n",
    "if '-EOS-' not in wv_dict:\n",
    "    wv_dict['-EOS-'] = len(wv_dict)\n",
    "    temp = torch.cat([wv_arr, torch.randn((1,glove_word_embedding_size))])\n",
    "    wv_arr = temp"
   ]
  },
  {
   "cell_type": "code",
   "execution_count": 36,
   "metadata": {
    "collapsed": true
   },
   "outputs": [],
   "source": [
    "def get_wv(w):\n",
    "    \"\"\" returning the word embedding \"\"\"\n",
    "    assert type(w) == str, \"Not given a string.\"\n",
    "    \n",
    "    if w in wv_dict:\n",
    "        vw = wv_arr[wv_dict[w]]\n",
    "        return vw.view(1, glove_word_embedding_size)\n",
    "    else:\n",
    "        print('Word not in Vocab: %s' %(w)) "
   ]
  },
  {
   "cell_type": "markdown",
   "metadata": {},
   "source": [
    "#### Hyperparameters for LSTM"
   ]
  },
  {
   "cell_type": "code",
   "execution_count": 37,
   "metadata": {
    "collapsed": true
   },
   "outputs": [],
   "source": [
    "embedding_dim = glove_word_embedding_size\n",
    "hidden_dim = 100\n",
    "vocab_size = len(vocab)"
   ]
  },
  {
   "cell_type": "markdown",
   "metadata": {},
   "source": [
    "#### Hyperparameters for MLP"
   ]
  },
  {
   "cell_type": "code",
   "execution_count": 39,
   "metadata": {
    "collapsed": true
   },
   "outputs": [],
   "source": [
    "d_in = 8 + obj_embed_dim # 8 comes from the spatial\n",
    "d_h1 = 100\n",
    "d_h2 = 50\n",
    "d_out = hidden_dim # where the output dimension must match the QGen hidden state dimension!"
   ]
  },
  {
   "cell_type": "markdown",
   "metadata": {},
   "source": [
    "#### LSTM Model"
   ]
  },
  {
   "cell_type": "code",
   "execution_count": 40,
   "metadata": {
    "collapsed": false
   },
   "outputs": [],
   "source": [
    "class Guesser(nn.Module):\n",
    "    \n",
    "    def __init__(self, embedding_dim, hidden_dim, vocab_size, d_in, d_h1, d_h2, d_out):\n",
    "        super(Guesser, self).__init__()\n",
    "        self.hidden_dim = hidden_dim\n",
    "\n",
    "        # The LSTM takes word embeddings as inputs, and outputs hidden states\n",
    "        # with dimensionality hidden_dim.\n",
    "        self.lstm = nn.LSTM(embedding_dim, hidden_dim)\n",
    "        self.hidden = self.init_hidden()\n",
    "        \n",
    "        self.object_model = nn.Sequential(\n",
    "            nn.Linear(d_in, d_h1),\n",
    "            nn.ReLU(),\n",
    "            nn.Linear(d_h1, d_h2),\n",
    "            nn.ReLU(),\n",
    "            nn.Linear(d_h2, d_out)\n",
    "        )\n",
    "\n",
    "    def init_hidden(self):\n",
    "        return (autograd.Variable(torch.zeros(1, 1, self.hidden_dim)),\n",
    "                autograd.Variable(torch.zeros(1, 1, self.hidden_dim)))\n",
    "\n",
    "    def forward(self, dialogue, objects, image, training=True):\n",
    "        \n",
    "        # Word embedding of dialogue\n",
    "        embeds = autograd.Variable(torch.FloatTensor(len(dialogue.split()), embedding_dim))\n",
    "        for i, w in enumerate(dialogue.split()):\n",
    "            embeds[i] = get_wv(w)\n",
    "        \n",
    "        \n",
    "        # lstm pass\n",
    "        out, self.hidden = self.lstm(embeds.view(len(dialogue.split()), 1, -1), self.hidden)\n",
    "        \n",
    "        \n",
    "        # process objects\n",
    "        proposed_embeddings = autograd.Variable(torch.zeros(len(d['objects']), hidden_dim))\n",
    "        \n",
    "        for i, obj in enumerate(objects):\n",
    "            x = get_spatial(obj['bbox'], image).view(1,-1)\n",
    "            e = get_obj_embeds(catid=obj['category_id'])\n",
    "            y = torch.cat([x, e], dim=1)\n",
    "            proposed_embeddings[i] = self.object_model(y)\n",
    "                \n",
    "        if not training:\n",
    "            print(proposed_embeddings)\n",
    "            print(self.hidden[0].view(hidden_dim,-1))\n",
    "            \n",
    "            \n",
    "        # multiply lstm output with mlp output and apply softmax    \n",
    "        predicted_object = F.log_softmax(torch.mm(proposed_embeddings, self.hidden[0].view(hidden_dim,-1)).t())\n",
    "        \n",
    "        \n",
    "        return predicted_object"
   ]
  },
  {
   "cell_type": "markdown",
   "metadata": {},
   "source": [
    "### Training Hyperparameters"
   ]
  },
  {
   "cell_type": "code",
   "execution_count": 41,
   "metadata": {
    "collapsed": false
   },
   "outputs": [],
   "source": [
    "iterations = 1\n",
    "lr = 0.1"
   ]
  },
  {
   "cell_type": "markdown",
   "metadata": {},
   "source": [
    "## Training"
   ]
  },
  {
   "cell_type": "code",
   "execution_count": 46,
   "metadata": {
    "collapsed": false,
    "scrolled": true
   },
   "outputs": [
    {
     "name": "stdout",
     "output_type": "stream",
     "text": [
      "Epoch 0 Time 66.42 Loss 39.349316\n"
     ]
    },
    {
     "data": {
      "image/png": "[encoded data removed]",
      "text/plain": [
       "<matplotlib.figure.Figure at 0x11321edd8>"
      ]
     },
     "metadata": {},
     "output_type": "display_data"
    }
   ],
   "source": [
    "model = Guesser(embedding_dim=embedding_dim, hidden_dim=hidden_dim, vocab_size=vocab_size, \n",
    "                     d_in=d_in, d_h1=d_h1, d_h2=d_h2, d_out=d_out)\n",
    "\n",
    "loss_function = nn.NLLLoss()\n",
    "optimizer = optim.Adam(model.parameters(), lr=lr)\n",
    "\n",
    "avg_loss = list()\n",
    "\n",
    "for epoch in range(iterations):\n",
    "    _loss = list()\n",
    "    start_time = time()\n",
    "    for d in data:\n",
    "        \n",
    "        # set gradient and hidden layer back to 0\n",
    "        model.zero_grad()\n",
    "        model.hidden = model.init_hidden()\n",
    "        \n",
    "        \n",
    "        # get objects\n",
    "        object_ids = list()\n",
    "        objects = d['objects']\n",
    "        \n",
    "        for i, obj in enumerate(d['objects']):\n",
    "            object_ids.append(obj['id'])            \n",
    "        \n",
    "        # get image meta\n",
    "        image = d['image']\n",
    "        \n",
    "        # get the lstm input\n",
    "        dialogue = str()\n",
    "        for qna in d['qas']:\n",
    "            question = preproc_question(qna['question'])\n",
    "            answer = preproc_answer(qna['answer'])\n",
    "            dialogue += question + ' ' + answer + ' '\n",
    "          \n",
    "        \n",
    "        # check if embeddings for all words in the dialogue exist\n",
    "        wv_for_dialogue = True\n",
    "        for w in dialogue.split():\n",
    "            if w not in wv_dict:\n",
    "                wv_for_dialogue = False\n",
    "                break\n",
    "                \n",
    "        if wv_for_dialogue == False:\n",
    "            continue\n",
    "        \n",
    "        # make prediction\n",
    "        predicted_object = model(dialogue, objects, image)\n",
    "        \n",
    "        \n",
    "        # get target\n",
    "        target_id = d['object_id']\n",
    "        target = autograd.Variable(torch.LongTensor([object_ids.index(target_id)]))\n",
    "        \n",
    "        # calculate loss\n",
    "        loss = loss_function(predicted_object, target)\n",
    "        loss.backward()\n",
    "        optimizer.step()           \n",
    "        \n",
    "        \n",
    "        # bookkeeping\n",
    "        _loss.append(loss.data.numpy())\n",
    "        \n",
    "    avg_loss.append(numpy.mean(_loss))\n",
    "    print('Epoch %i Time %.2f Loss %f' %(epoch, time()-start_time, avg_loss[-1]))\n",
    "\n",
    "plt.plot(avg_loss)\n",
    "plt.show()"
   ]
  },
  {
   "cell_type": "markdown",
   "metadata": {},
   "source": [
    "## Testing"
   ]
  },
  {
   "cell_type": "code",
   "execution_count": 44,
   "metadata": {
    "collapsed": false
   },
   "outputs": [
    {
     "name": "stdout",
     "output_type": "stream",
     "text": [
      "Variable containing:\n",
      " 4\n",
      "[torch.LongTensor of size 1]\n",
      "\n"
     ]
    }
   ],
   "source": [
    "d = test[2]\n",
    "object_ids = list()\n",
    "objects = d['objects']\n",
    "\n",
    "for i, obj in enumerate(d['objects']):\n",
    "    object_ids.append(obj['id'])            \n",
    "\n",
    "\n",
    "# get the lstm input\n",
    "dialogue = str()\n",
    "for qna in d['qas']:\n",
    "    question = preproc_question(qna['question'])\n",
    "    answer = preproc_answer(qna['answer'])\n",
    "    dialogue += question + ' ' + answer + ' '\n",
    "    \n",
    "target_id = d['object_id']\n",
    "target = autograd.Variable(torch.LongTensor([object_ids.index(target_id)]))\n",
    "print(target)"
   ]
  },
  {
   "cell_type": "code",
   "execution_count": 19,
   "metadata": {
    "collapsed": false
   },
   "outputs": [
    {
     "name": "stdout",
     "output_type": "stream",
     "text": [
      "Variable containing:\n",
      "\n",
      "Columns 0 to 5 \n",
      "-5.2902e-02 -1.0598e-01 -1.1161e-02  5.2882e-02 -4.0427e-02  6.5104e-02\n",
      "-5.2902e-02 -1.0598e-01 -1.1161e-02  5.2882e-02 -4.0427e-02  6.5104e-02\n",
      "-5.2902e-02 -1.0598e-01 -1.1161e-02  5.2882e-02 -4.0427e-02  6.5104e-02\n",
      "-5.2902e-02 -1.0598e-01 -1.1161e-02  5.2882e-02 -4.0427e-02  6.5104e-02\n",
      "-5.2902e-02 -1.0598e-01 -1.1161e-02  5.2882e-02 -4.0427e-02  6.5104e-02\n",
      "-5.2902e-02 -1.0598e-01 -1.1161e-02  5.2882e-02 -4.0427e-02  6.5104e-02\n",
      "-5.2902e-02 -1.0598e-01 -1.1161e-02  5.2882e-02 -4.0427e-02  6.5104e-02\n",
      "\n",
      "Columns 6 to 11 \n",
      "-1.8639e-02  9.5920e-02  1.1119e-02 -8.4981e-02  4.3430e-02  9.4486e-03\n",
      "-1.8639e-02  9.5920e-02  1.1119e-02 -8.4981e-02  4.3430e-02  9.4486e-03\n",
      "-1.8639e-02  9.5920e-02  1.1119e-02 -8.4981e-02  4.3430e-02  9.4486e-03\n",
      "-1.8639e-02  9.5920e-02  1.1119e-02 -8.4981e-02  4.3430e-02  9.4486e-03\n",
      "-1.8639e-02  9.5920e-02  1.1119e-02 -8.4981e-02  4.3430e-02  9.4486e-03\n",
      "-1.8639e-02  9.5920e-02  1.1119e-02 -8.4981e-02  4.3430e-02  9.4486e-03\n",
      "-1.8639e-02  9.5920e-02  1.1119e-02 -8.4981e-02  4.3430e-02  9.4486e-03\n",
      "\n",
      "Columns 12 to 17 \n",
      " 1.6127e+02  4.1187e-02 -1.1146e-01  1.5221e+02 -1.7304e+02  1.5722e+02\n",
      " 1.6127e+02  4.1187e-02 -1.1146e-01  1.5221e+02 -1.7304e+02  1.5722e+02\n",
      " 1.6127e+02  4.1187e-02 -1.1146e-01  1.5221e+02 -1.7304e+02  1.5722e+02\n",
      " 1.6127e+02  4.1187e-02 -1.1146e-01  1.5221e+02 -1.7304e+02  1.5722e+02\n",
      " 1.6127e+02  4.1187e-02 -1.1146e-01  1.5221e+02 -1.7304e+02  1.5722e+02\n",
      " 1.6127e+02  4.1187e-02 -1.1146e-01  1.5221e+02 -1.7304e+02  1.5722e+02\n",
      " 1.6127e+02  4.1187e-02 -1.1146e-01  1.5221e+02 -1.7304e+02  1.5722e+02\n",
      "\n",
      "Columns 18 to 23 \n",
      "-1.9582e-02 -1.9698e-02 -1.2115e-01  1.2485e-01 -1.4510e+02 -8.7663e-02\n",
      "-1.9582e-02 -1.9698e-02 -1.2115e-01  1.2485e-01 -1.4510e+02 -8.7663e-02\n",
      "-1.9582e-02 -1.9698e-02 -1.2115e-01  1.2485e-01 -1.4510e+02 -8.7663e-02\n",
      "-1.9582e-02 -1.9698e-02 -1.2115e-01  1.2485e-01 -1.4510e+02 -8.7663e-02\n",
      "-1.9582e-02 -1.9698e-02 -1.2115e-01  1.2485e-01 -1.4510e+02 -8.7663e-02\n",
      "-1.9582e-02 -1.9698e-02 -1.2115e-01  1.2485e-01 -1.4510e+02 -8.7663e-02\n",
      "-1.9582e-02 -1.9698e-02 -1.2115e-01  1.2485e-01 -1.4510e+02 -8.7663e-02\n",
      "\n",
      "Columns 24 to 29 \n",
      " 6.8848e-02 -8.9962e-02  3.9897e-02 -6.5400e-02  6.4194e-03 -1.6176e+02\n",
      " 6.8848e-02 -8.9962e-02  3.9897e-02 -6.5400e-02  6.4194e-03 -1.6176e+02\n",
      " 6.8848e-02 -8.9962e-02  3.9897e-02 -6.5400e-02  6.4194e-03 -1.6176e+02\n",
      " 6.8848e-02 -8.9962e-02  3.9897e-02 -6.5400e-02  6.4194e-03 -1.6176e+02\n",
      " 6.8848e-02 -8.9962e-02  3.9897e-02 -6.5400e-02  6.4194e-03 -1.6176e+02\n",
      " 6.8848e-02 -8.9962e-02  3.9897e-02 -6.5400e-02  6.4194e-03 -1.6176e+02\n",
      " 6.8848e-02 -8.9962e-02  3.9897e-02 -6.5400e-02  6.4194e-03 -1.6176e+02\n",
      "\n",
      "Columns 30 to 35 \n",
      " 1.4394e-01 -6.0377e-02 -1.1576e-01 -1.1184e-01 -3.3700e-02 -1.0169e-01\n",
      " 1.4394e-01 -6.0377e-02 -1.1576e-01 -1.1184e-01 -3.3700e-02 -1.0169e-01\n",
      " 1.4394e-01 -6.0377e-02 -1.1576e-01 -1.1184e-01 -3.3700e-02 -1.0169e-01\n",
      " 1.4394e-01 -6.0377e-02 -1.1576e-01 -1.1184e-01 -3.3700e-02 -1.0169e-01\n",
      " 1.4394e-01 -6.0377e-02 -1.1576e-01 -1.1184e-01 -3.3700e-02 -1.0169e-01\n",
      " 1.4394e-01 -6.0377e-02 -1.1576e-01 -1.1184e-01 -3.3700e-02 -1.0169e-01\n",
      " 1.4394e-01 -6.0377e-02 -1.1576e-01 -1.1184e-01 -3.3700e-02 -1.0169e-01\n",
      "\n",
      "Columns 36 to 41 \n",
      "-1.4258e+02  1.8232e+02 -7.8519e-02  1.6008e+02  1.1816e-02  6.8238e-02\n",
      "-1.4258e+02  1.8232e+02 -7.8519e-02  1.6008e+02  1.1816e-02  6.8238e-02\n",
      "-1.4258e+02  1.8232e+02 -7.8519e-02  1.6008e+02  1.1816e-02  6.8238e-02\n",
      "-1.4258e+02  1.8232e+02 -7.8519e-02  1.6008e+02  1.1816e-02  6.8238e-02\n",
      "-1.4258e+02  1.8232e+02 -7.8519e-02  1.6008e+02  1.1816e-02  6.8238e-02\n",
      "-1.4258e+02  1.8232e+02 -7.8519e-02  1.6008e+02  1.1816e-02  6.8238e-02\n",
      "-1.4258e+02  1.8232e+02 -7.8519e-02  1.6008e+02  1.1816e-02  6.8238e-02\n",
      "\n",
      "Columns 42 to 47 \n",
      " 2.0434e-02  4.8253e+01  1.1464e-01 -1.1243e-01 -9.0799e-02  9.2597e-02\n",
      " 2.0434e-02  4.8253e+01  1.1464e-01 -1.1243e-01 -9.0799e-02  9.2597e-02\n",
      " 2.0434e-02  4.8253e+01  1.1464e-01 -1.1243e-01 -9.0799e-02  9.2597e-02\n",
      " 2.0434e-02  4.8253e+01  1.1464e-01 -1.1243e-01 -9.0799e-02  9.2597e-02\n",
      " 2.0434e-02  4.8253e+01  1.1464e-01 -1.1243e-01 -9.0799e-02  9.2597e-02\n",
      " 2.0434e-02  4.8253e+01  1.1464e-01 -1.1243e-01 -9.0799e-02  9.2597e-02\n",
      " 2.0434e-02  4.8253e+01  1.1464e-01 -1.1243e-01 -9.0799e-02  9.2597e-02\n",
      "\n",
      "Columns 48 to 53 \n",
      "-8.7124e-02 -2.1997e-02  9.1904e-02 -4.1918e-02  4.2320e-02 -2.2422e-02\n",
      "-8.7124e-02 -2.1997e-02  9.1904e-02 -4.1918e-02  4.2320e-02 -2.2422e-02\n",
      "-8.7124e-02 -2.1997e-02  9.1904e-02 -4.1918e-02  4.2320e-02 -2.2422e-02\n",
      "-8.7124e-02 -2.1997e-02  9.1904e-02 -4.1918e-02  4.2320e-02 -2.2422e-02\n",
      "-8.7124e-02 -2.1997e-02  9.1904e-02 -4.1918e-02  4.2320e-02 -2.2422e-02\n",
      "-8.7124e-02 -2.1997e-02  9.1904e-02 -4.1918e-02  4.2320e-02 -2.2422e-02\n",
      "-8.7124e-02 -2.1997e-02  9.1904e-02 -4.1918e-02  4.2320e-02 -2.2422e-02\n",
      "\n",
      "Columns 54 to 59 \n",
      " 2.0780e-01  6.5402e-02 -1.1711e-01  1.2101e-02 -9.8260e-02 -3.9585e-02\n",
      " 2.0780e-01  6.5402e-02 -1.1711e-01  1.2101e-02 -9.8260e-02 -3.9585e-02\n",
      " 2.0780e-01  6.5402e-02 -1.1711e-01  1.2101e-02 -9.8260e-02 -3.9585e-02\n",
      " 2.0780e-01  6.5402e-02 -1.1711e-01  1.2101e-02 -9.8260e-02 -3.9585e-02\n",
      " 2.0780e-01  6.5402e-02 -1.1711e-01  1.2101e-02 -9.8260e-02 -3.9585e-02\n",
      " 2.0780e-01  6.5402e-02 -1.1711e-01  1.2101e-02 -9.8260e-02 -3.9585e-02\n",
      " 2.0780e-01  6.5402e-02 -1.1711e-01  1.2101e-02 -9.8260e-02 -3.9585e-02\n",
      "\n",
      "Columns 60 to 65 \n",
      " 1.6516e+02 -1.3269e-01 -1.4382e-01  7.9622e-02 -1.0245e-01 -1.0031e-01\n",
      " 1.6516e+02 -1.3269e-01 -1.4382e-01  7.9622e-02 -1.0245e-01 -1.0031e-01\n",
      " 1.6516e+02 -1.3269e-01 -1.4382e-01  7.9622e-02 -1.0245e-01 -1.0031e-01\n",
      " 1.6516e+02 -1.3269e-01 -1.4382e-01  7.9622e-02 -1.0245e-01 -1.0031e-01\n",
      " 1.6516e+02 -1.3269e-01 -1.4382e-01  7.9622e-02 -1.0245e-01 -1.0031e-01\n",
      " 1.6516e+02 -1.3269e-01 -1.4382e-01  7.9622e-02 -1.0245e-01 -1.0031e-01\n",
      " 1.6516e+02 -1.3269e-01 -1.4382e-01  7.9622e-02 -1.0245e-01 -1.0031e-01\n",
      "\n",
      "Columns 66 to 71 \n",
      "-1.3145e-01 -1.1271e-01  2.6611e-04 -1.0838e+02 -6.7054e-02 -8.1540e+01\n",
      "-1.3145e-01 -1.1271e-01  2.6611e-04 -1.0838e+02 -6.7054e-02 -8.1540e+01\n",
      "-1.3145e-01 -1.1271e-01  2.6611e-04 -1.0838e+02 -6.7054e-02 -8.1540e+01\n",
      "-1.3145e-01 -1.1271e-01  2.6611e-04 -1.0838e+02 -6.7054e-02 -8.1540e+01\n",
      "-1.3145e-01 -1.1271e-01  2.6611e-04 -1.0838e+02 -6.7054e-02 -8.1540e+01\n",
      "-1.3145e-01 -1.1271e-01  2.6611e-04 -1.0838e+02 -6.7054e-02 -8.1540e+01\n",
      "-1.3145e-01 -1.1271e-01  2.6611e-04 -1.0838e+02 -6.7054e-02 -8.1540e+01\n",
      "\n",
      "Columns 72 to 77 \n",
      "-1.6955e+02  5.6332e-02  6.0062e-02  4.8701e-02 -8.7564e-02 -6.4501e-02\n",
      "-1.6955e+02  5.6332e-02  6.0062e-02  4.8701e-02 -8.7564e-02 -6.4501e-02\n",
      "-1.6955e+02  5.6332e-02  6.0062e-02  4.8701e-02 -8.7564e-02 -6.4501e-02\n",
      "-1.6955e+02  5.6332e-02  6.0062e-02  4.8701e-02 -8.7564e-02 -6.4501e-02\n",
      "-1.6955e+02  5.6332e-02  6.0062e-02  4.8701e-02 -8.7564e-02 -6.4501e-02\n",
      "-1.6955e+02  5.6332e-02  6.0062e-02  4.8701e-02 -8.7564e-02 -6.4501e-02\n",
      "-1.6955e+02  5.6332e-02  6.0062e-02  4.8701e-02 -8.7564e-02 -6.4501e-02\n",
      "\n",
      "Columns 78 to 83 \n",
      "-1.2942e-02 -8.8765e-02  1.4514e+02 -1.0673e-01 -1.5130e+02 -1.6206e-01\n",
      "-1.2942e-02 -8.8765e-02  1.4514e+02 -1.0673e-01 -1.5130e+02 -1.6206e-01\n",
      "-1.2942e-02 -8.8765e-02  1.4514e+02 -1.0673e-01 -1.5130e+02 -1.6206e-01\n",
      "-1.2942e-02 -8.8765e-02  1.4514e+02 -1.0673e-01 -1.5130e+02 -1.6206e-01\n",
      "-1.2942e-02 -8.8765e-02  1.4514e+02 -1.0673e-01 -1.5130e+02 -1.6206e-01\n",
      "-1.2942e-02 -8.8765e-02  1.4514e+02 -1.0673e-01 -1.5130e+02 -1.6206e-01\n",
      "-1.2942e-02 -8.8765e-02  1.4514e+02 -1.0673e-01 -1.5130e+02 -1.6206e-01\n",
      "\n",
      "Columns 84 to 89 \n",
      "-1.0969e-01 -1.3209e+00  1.3279e+02 -2.7075e-02 -2.1641e-02 -1.3002e+02\n",
      "-1.0969e-01 -1.3209e+00  1.3279e+02 -2.7075e-02 -2.1641e-02 -1.3002e+02\n",
      "-1.0969e-01 -1.3209e+00  1.3279e+02 -2.7075e-02 -2.1641e-02 -1.3002e+02\n",
      "-1.0969e-01 -1.3209e+00  1.3279e+02 -2.7075e-02 -2.1641e-02 -1.3002e+02\n",
      "-1.0969e-01 -1.3209e+00  1.3279e+02 -2.7075e-02 -2.1641e-02 -1.3002e+02\n",
      "-1.0969e-01 -1.3209e+00  1.3279e+02 -2.7075e-02 -2.1641e-02 -1.3002e+02\n",
      "-1.0969e-01 -1.3209e+00  1.3279e+02 -2.7075e-02 -2.1641e-02 -1.3002e+02\n",
      "\n",
      "Columns 90 to 95 \n",
      " 5.7731e-02  1.0808e-01 -1.3907e-01  6.3352e-02 -1.5288e+02 -5.6669e-02\n",
      " 5.7731e-02  1.0808e-01 -1.3907e-01  6.3352e-02 -1.5288e+02 -5.6669e-02\n",
      " 5.7731e-02  1.0808e-01 -1.3907e-01  6.3352e-02 -1.5288e+02 -5.6669e-02\n",
      " 5.7731e-02  1.0808e-01 -1.3907e-01  6.3352e-02 -1.5288e+02 -5.6669e-02\n",
      " 5.7731e-02  1.0808e-01 -1.3907e-01  6.3352e-02 -1.5288e+02 -5.6669e-02\n",
      " 5.7731e-02  1.0808e-01 -1.3907e-01  6.3352e-02 -1.5288e+02 -5.6669e-02\n",
      " 5.7731e-02  1.0808e-01 -1.3907e-01  6.3352e-02 -1.5288e+02 -5.6669e-02\n",
      "\n",
      "Columns 96 to 99 \n",
      " 1.3172e+02  1.3011e+02 -3.3424e-02 -1.3420e-01\n",
      " 1.3172e+02  1.3011e+02 -3.3424e-02 -1.3420e-01\n",
      " 1.3172e+02  1.3011e+02 -3.3424e-02 -1.3420e-01\n",
      " 1.3172e+02  1.3011e+02 -3.3424e-02 -1.3420e-01\n",
      " 1.3172e+02  1.3011e+02 -3.3424e-02 -1.3420e-01\n",
      " 1.3172e+02  1.3011e+02 -3.3424e-02 -1.3420e-01\n",
      " 1.3172e+02  1.3011e+02 -3.3424e-02 -1.3420e-01\n",
      "[torch.FloatTensor of size 7x100]\n",
      "\n",
      "Variable containing:\n",
      " 7.2162e-14\n",
      " 1.5932e-18\n",
      "-1.7552e-21\n",
      "-3.6379e-07\n",
      "-3.1246e-12\n",
      " 4.7077e-28\n",
      " 1.5437e-17\n",
      " 2.6598e-13\n",
      " 9.6796e-27\n",
      "-1.9453e-18\n",
      "-4.4008e-11\n",
      "-2.0391e-16\n",
      " 7.6159e-01\n",
      " 1.5381e-15\n",
      "-4.2639e-15\n",
      " 1.0000e+00\n",
      "-1.0000e+00\n",
      " 7.6159e-01\n",
      " 9.2577e-28\n",
      "-9.0285e-23\n",
      "-1.1623e-12\n",
      "-5.5558e-25\n",
      "-7.6159e-01\n",
      " 8.7052e-14\n",
      "-1.8767e-14\n",
      " 1.8984e-15\n",
      " 3.0228e-08\n",
      "-3.8679e-13\n",
      " 1.2089e-09\n",
      "-7.6159e-01\n",
      " 2.5525e-13\n",
      " 2.3151e-09\n",
      " 3.2016e-15\n",
      " 8.4447e-12\n",
      " 7.8782e-08\n",
      "-3.2811e-08\n",
      "-7.4213e-01\n",
      " 7.6159e-01\n",
      " 9.2698e-13\n",
      " 7.6158e-01\n",
      "-1.3805e-16\n",
      "-5.9252e-15\n",
      " 1.5511e-14\n",
      " 5.1853e-05\n",
      " 1.7489e-14\n",
      " 1.4420e-14\n",
      " 7.1932e-17\n",
      " 5.7900e-11\n",
      "-7.5222e-26\n",
      "-2.1995e-15\n",
      "-9.7280e-12\n",
      "-7.0380e-20\n",
      "-5.6937e-11\n",
      " 3.9395e-24\n",
      " 2.0908e-09\n",
      " 2.7106e-10\n",
      " 9.2561e-16\n",
      " 3.2791e-14\n",
      " 2.7311e-16\n",
      " 6.0299e-17\n",
      " 1.0000e+00\n",
      "-1.9844e-13\n",
      " 3.5357e-12\n",
      " 3.6052e-17\n",
      "-3.3385e-14\n",
      "-1.7971e-14\n",
      " 8.0049e-25\n",
      "-5.3220e-08\n",
      " 2.6516e-14\n",
      "-7.6136e-01\n",
      " 4.0220e-21\n",
      "-7.6159e-01\n",
      "-7.6159e-01\n",
      " 7.0511e-17\n",
      " 2.8093e-11\n",
      "-1.0122e-15\n",
      "-3.1706e-13\n",
      " 3.1754e-16\n",
      "-1.4234e-15\n",
      "-7.5134e-23\n",
      " 7.6159e-01\n",
      " 1.1984e-09\n",
      "-7.6159e-01\n",
      " 1.8142e-10\n",
      " 1.3691e-14\n",
      " 6.8399e-12\n",
      " 7.6159e-01\n",
      " 2.2905e-17\n",
      "-7.3408e-08\n",
      "-7.6159e-01\n",
      "-3.2769e-21\n",
      " 8.0139e-16\n",
      "-8.0640e-18\n",
      " 3.5449e-16\n",
      "-7.6094e-01\n",
      "-3.2006e-16\n",
      " 7.6159e-01\n",
      " 7.6159e-01\n",
      " 5.9947e-11\n",
      " 1.0205e-14\n",
      "[torch.FloatTensor of size 100x1]\n",
      "\n"
     ]
    },
    {
     "data": {
      "text/plain": [
       "Variable containing:\n",
       "-1.9459 -1.9459 -1.9459 -1.9459 -1.9459 -1.9459 -1.9459\n",
       "[torch.FloatTensor of size 1x7]"
      ]
     },
     "execution_count": 19,
     "metadata": {},
     "output_type": "execute_result"
    }
   ],
   "source": [
    "model(dialogue, objects, training=True)"
   ]
  },
  {
   "cell_type": "code",
   "execution_count": 23,
   "metadata": {
    "collapsed": false
   },
   "outputs": [
    {
     "name": "stdout",
     "output_type": "stream",
     "text": [
      "\n",
      " 1  2  3  4\n",
      " 5  6  7  8\n",
      "[torch.FloatTensor of size 2x4]\n",
      "\n",
      "\n",
      "    1     2     3     4     5     6     7     8\n",
      "[torch.FloatTensor of size 1x8]\n",
      "\n",
      "\n",
      " 1  2  3  4\n",
      " 5  6  7  8\n",
      "[torch.FloatTensor of size 2x4]\n",
      "\n"
     ]
    }
   ],
   "source": [
    "import torch\n",
    "x = torch.Tensor([[1,2,3,4]])\n",
    "y = torch.Tensor([[5,6,7,8]])\n",
    "z = torch.cat([x,y], dim=0)\n",
    "print(z)\n",
    "z = torch.cat([x,y], dim=1)\n",
    "print(z)\n",
    "x = torch.cat([x,y],dim=0)\n",
    "print(x)"
   ]
  },
  {
   "cell_type": "code",
   "execution_count": null,
   "metadata": {
    "collapsed": true
   },
   "outputs": [],
   "source": []
  }
 ],
 "metadata": {
  "kernelspec": {
   "display_name": "Python 3",
   "language": "python",
   "name": "python3"
  },
  "language_info": {
   "codemirror_mode": {
    "name": "ipython",
    "version": 3
   },
   "file_extension": ".py",
   "mimetype": "text/x-python",
   "name": "python",
   "nbconvert_exporter": "python",
   "pygments_lexer": "ipython3",
   "version": "3.6.1"
  }
 },
 "nbformat": 4,
 "nbformat_minor": 2
}
